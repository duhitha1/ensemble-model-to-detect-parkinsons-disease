{
  "cells": [
    {
      "cell_type": "code",
      "execution_count": 51,
      "id": "145f9f76",
      "metadata": {
        "id": "145f9f76"
      },
      "outputs": [],
      "source": [
        "from keras.models import load_model\n",
        "from sklearn.metrics import accuracy_score\n",
        "import pandas as pd\n",
        "import numpy as np\n",
        "import random\n",
        "import matplotlib.pyplot as plt\n",
        "import os\n",
        "from keras.preprocessing import image"
      ]
    },
    {
      "cell_type": "code",
      "execution_count": 4,
      "metadata": {
        "id": "c7e30254",
        "colab": {
          "base_uri": "https://localhost:8080/"
        },
        "outputId": "5744d07e-bb97-42d3-c58e-c84fa095ec08"
      },
      "outputs": [
        {
          "output_type": "stream",
          "name": "stdout",
          "text": [
            "Mounted at /content/drive\n"
          ]
        }
      ],
      "source": [
        "from google.colab import drive\n",
        "drive.mount('/content/drive')"
      ],
      "id": "c7e30254"
    },
    {
      "cell_type": "code",
      "execution_count": 69,
      "id": "fde54b66",
      "metadata": {
        "id": "fde54b66"
      },
      "outputs": [],
      "source": [
        "X_test = []"
      ]
    },
    {
      "cell_type": "code",
      "source": [
        "TEST_PATH = \"/content/drive/MyDrive/Park_gauss_resnet_testset/testing/HC_gauss/\"\n",
        "for imagenameindir in os.listdir(TEST_PATH):\n",
        "    # print(imagenameindir)\n",
        "    img = image.load_img(TEST_PATH+'/'+imagenameindir,target_size=(256,256))\n",
        "    img = np.asarray(img)\n",
        "    X_test.append(img)\n"
      ],
      "metadata": {
        "id": "IkXsfhuwpD8I"
      },
      "id": "IkXsfhuwpD8I",
      "execution_count": 72,
      "outputs": []
    },
    {
      "cell_type": "code",
      "source": [
        "print((X_test[0]))"
      ],
      "metadata": {
        "id": "wr_bmbFTp9-S"
      },
      "id": "wr_bmbFTp9-S",
      "execution_count": null,
      "outputs": []
    },
    {
      "cell_type": "code",
      "execution_count": 2,
      "id": "3ffac156",
      "metadata": {
        "id": "3ffac156"
      },
      "outputs": [],
      "source": [
        "from tensorflow.keras.preprocessing.image import ImageDataGenerator\n",
        "\n",
        "testAug = ImageDataGenerator()"
      ]
    },
    {
      "cell_type": "code",
      "execution_count": 5,
      "id": "78df9ebe",
      "metadata": {
        "colab": {
          "base_uri": "https://localhost:8080/"
        },
        "id": "78df9ebe",
        "outputId": "2e3aa56e-09c2-4e79-d33e-cf6c70afece2"
      },
      "outputs": [
        {
          "output_type": "stream",
          "name": "stdout",
          "text": [
            "Found 1203 images belonging to 2 classes.\n"
          ]
        }
      ],
      "source": [
        "BS=64\n",
        "\n",
        "testGen = testAug.flow_from_directory(\n",
        "\tTEST_PATH,\n",
        "\tclass_mode=\"categorical\",\n",
        "\ttarget_size=(256, 256),\n",
        "\tcolor_mode=\"rgb\",\n",
        "\tshuffle=False,\n",
        "\tbatch_size=BS)"
      ]
    },
    {
      "cell_type": "code",
      "execution_count": 5,
      "id": "ebad0679",
      "metadata": {
        "colab": {
          "base_uri": "https://localhost:8080/"
        },
        "id": "ebad0679",
        "outputId": "53e35dec-3759-4965-d35f-9a4e9dcc17d5"
      },
      "outputs": [
        {
          "output_type": "stream",
          "name": "stdout",
          "text": [
            "[0 0 0 ... 1 1 1]\n"
          ]
        }
      ],
      "source": [
        "print(testGen.classes)"
      ]
    },
    {
      "cell_type": "code",
      "execution_count": 7,
      "id": "95c84639",
      "metadata": {
        "id": "95c84639"
      },
      "outputs": [],
      "source": [
        "#loading the two models\n",
        "model1 = load_model(\"/content/drive/MyDrive/best_model/park_best_resnet.h5\")\n",
        "model2 = load_model(\"/content/drive/MyDrive/BestModel/Park_best_vgg.h5\")"
      ]
    },
    {
      "cell_type": "code",
      "execution_count": 11,
      "id": "dc4e7e2f",
      "metadata": {
        "id": "dc4e7e2f"
      },
      "outputs": [],
      "source": [
        "#summing\n",
        "models = [model1, model2]\n",
        "preds = [model.predict(testGen) for model in models]\n",
        "preds= np.array(preds)\n",
        "summed = np.sum(preds, axis=0)"
      ]
    },
    {
      "cell_type": "code",
      "execution_count": 12,
      "id": "ed681510",
      "metadata": {
        "colab": {
          "base_uri": "https://localhost:8080/"
        },
        "id": "ed681510",
        "outputId": "919facf2-65b1-44d3-9788-c5705c7fa861"
      },
      "outputs": [
        {
          "output_type": "stream",
          "name": "stdout",
          "text": [
            "[0 0 0 ... 1 1 1]\n"
          ]
        }
      ],
      "source": [
        "# argmax across classes\n",
        "ensemble_prediction = np.argmax(summed, axis=1)\n",
        "print(ensemble_prediction)"
      ]
    },
    {
      "cell_type": "code",
      "source": [
        "#prediction on models individually\n",
        "prediction1 = model1.predict(testGen)\n",
        "prediction2 = model2.predict(testGen)"
      ],
      "metadata": {
        "id": "AATEHxXrR79R"
      },
      "id": "AATEHxXrR79R",
      "execution_count": null,
      "outputs": []
    },
    {
      "cell_type": "code",
      "source": [
        "#argmax across classes\n",
        "pred1 = np.argmax(prediction1, axis=1)\n",
        "pred2 = np.argmax(prediction2, axis=1)\n",
        "\n",
        "print(pred1)"
      ],
      "metadata": {
        "colab": {
          "base_uri": "https://localhost:8080/"
        },
        "id": "S4Ixl-nzUXzv",
        "outputId": "53dc4d26-5d91-41cf-b441-1f17dad03542"
      },
      "id": "S4Ixl-nzUXzv",
      "execution_count": 16,
      "outputs": [
        {
          "output_type": "stream",
          "name": "stdout",
          "text": [
            "[0 0 0 ... 0 1 1]\n"
          ]
        }
      ]
    },
    {
      "cell_type": "code",
      "execution_count": 17,
      "id": "996699b8",
      "metadata": {
        "colab": {
          "base_uri": "https://localhost:8080/"
        },
        "id": "996699b8",
        "outputId": "2b9d504f-ef28-44ee-c5b0-a95da078aebf"
      },
      "outputs": [
        {
          "output_type": "stream",
          "name": "stdout",
          "text": [
            "Accuracy Score for model1 =  0.9218620116375728\n",
            "Accuracy Score for model2 =  0.9019118869492935\n",
            "Accuracy Score for average ensemble =  0.9609310058187863\n"
          ]
        }
      ],
      "source": [
        "#comparing normal and ensemble accuracies\n",
        "accuracy1 = accuracy_score(testGen.classes, pred1)\n",
        "accuracy2 = accuracy_score(testGen.classes, pred2)\n",
        "\n",
        "ensemble_accuracy = accuracy_score(testGen.classes, ensemble_prediction)\n",
        "\n",
        "print('Accuracy Score for model1 = ', accuracy1)\n",
        "print('Accuracy Score for model2 = ', accuracy2)\n",
        "print('Accuracy Score for average ensemble = ', ensemble_accuracy)"
      ]
    },
    {
      "cell_type": "code",
      "execution_count": 47,
      "id": "0c36ddbe",
      "metadata": {
        "id": "0c36ddbe"
      },
      "outputs": [],
      "source": [
        "\n",
        "ideal_weights = [0.5, 0.5] \n",
        "\n",
        "#Use tensordot to sum the products of all elements over specified axes.\n",
        "ideal_weighted_preds = np.tensordot(preds, ideal_weights, axes=((0),(0)))\n",
        "ideal_weighted_ensemble_prediction = np.argmax(ideal_weighted_preds, axis=1)\n",
        "\n",
        "ideal_weighted_accuracy = accuracy_score(testGen.classes, ideal_weighted_ensemble_prediction)\n"
      ]
    },
    {
      "cell_type": "code",
      "execution_count": 87,
      "id": "27439623",
      "metadata": {
        "colab": {
          "base_uri": "https://localhost:8080/",
          "height": 317
        },
        "id": "27439623",
        "outputId": "3f6ef2fc-55df-422e-ae57-3beffd6c8a76"
      },
      "outputs": [
        {
          "output_type": "stream",
          "name": "stdout",
          "text": [
            "Predicted Label:  PD\n",
            "True Label:  PD\n"
          ]
        },
        {
          "output_type": "display_data",
          "data": {
            "image/png": "[encoded data removed]",
            "text/plain": [
              "<Figure size 432x288 with 1 Axes>"
            ]
          },
          "metadata": {}
        }
      ],
      "source": [
        "class_names = ['HC', 'PD']\n",
        "i = random.randint(1,len(ideal_weighted_ensemble_prediction))\n",
        "plt.imshow(X_test[i]) \n",
        "print(\"Predicted Label: \", class_names[int(ideal_weighted_ensemble_prediction[i])])\n",
        "print(\"True Label: \", class_names[int(testGen.classes[i])])\n",
        "\n",
        "\n",
        "\n",
        "#PLot fractional incorrect misclassifications\n",
        "# incorr_fraction = 1 - np.diag(cm) / np.sum(cm, axis=1)\n",
        "# fig, ax = plt.subplots(figsize=(12,12))\n",
        "# plt.bar(np.arange(24), incorr_fraction)\n",
        "# plt.xlabel('True Label')\n",
        "# plt.ylabel('Fraction of incorrect predictions')\n",
        "# plt.xticks(np.arange(24), class_names) "
      ]
    },
    {
      "cell_type": "code",
      "source": [
        "#@title /####/ FINAL CELL /####/ { form-width: \"30%\", display-mode: \"both\" }\n",
        "from sklearn.metrics import confusion_matrix\n",
        "from sklearn.metrics import ConfusionMatrixDisplay\n",
        "import seaborn as sns\n",
        "#Print confusion matrix\n",
        "cm = confusion_matrix(testGen.classes, ideal_weighted_ensemble_prediction)\n",
        "disp = ConfusionMatrixDisplay(confusion_matrix=cm, display_labels=class_names)\n",
        "\n",
        "fig, ax = plt.subplots(figsize=(9,9))\n",
        "# for label in (ax.get_xticklabels() + ax.get_yticklabels()):\n",
        "#     label.set_fontname('Arial')\n",
        "#     label.set_fontsize(18)\n",
        "sns.set(font_scale=1.0)\n",
        "# plt.rcParams.update({'font.size': 20})\n",
        "disp.plot(cmap=plt.cm.Blues, ax=ax)\n",
        "plt.show()\n",
        "\n",
        "\n",
        "\n",
        "# sns.heatmap(cm, annot=True, linewidths=.5, ax=ax, xticklabels=class_names, yticklabels=class_names)"
      ],
      "metadata": {
        "colab": {
          "base_uri": "https://localhost:8080/",
          "height": 520
        },
        "id": "eLS9-ihftmdW",
        "outputId": "99dc210c-ac62-4d92-edd6-0a068635c684"
      },
      "id": "eLS9-ihftmdW",
      "execution_count": 125,
      "outputs": [
        {
          "output_type": "display_data",
          "data": {
            "image/png": "[encoded data removed]",
            "text/plain": [
              "<Figure size 648x648 with 2 Axes>"
            ]
          },
          "metadata": {}
        }
      ]
    },
    {
      "cell_type": "code",
      "source": [
        ""
      ],
      "metadata": {
        "id": "rv7vVwSP1c-E"
      },
      "id": "rv7vVwSP1c-E",
      "execution_count": null,
      "outputs": []
    },
    {
      "cell_type": "code",
      "source": [
        ""
      ],
      "metadata": {
        "id": "7UahLMAQ1dKt"
      },
      "id": "7UahLMAQ1dKt",
      "execution_count": null,
      "outputs": []
    },
    {
      "cell_type": "markdown",
      "source": [
        "# **END** "
      ],
      "metadata": {
        "id": "t2fWj_RU1mJw"
      },
      "id": "t2fWj_RU1mJw"
    },
    {
      "cell_type": "markdown",
      "id": "c91c7967",
      "metadata": {
        "id": "c91c7967"
      },
      "source": [
        "Weighted average"
      ]
    },
    {
      "cell_type": "code",
      "execution_count": 19,
      "id": "03b03e58",
      "metadata": {
        "id": "03b03e58"
      },
      "outputs": [],
      "source": [
        "#@title Default title text\n",
        "#Weighted average ensemble\n",
        "models = [model1, model2]\n",
        "preds = [model.predict(testGen) for model in models]\n",
        "preds = np.array(preds)\n",
        "\n"
      ]
    },
    {
      "cell_type": "code",
      "execution_count": 42,
      "id": "df82408e",
      "metadata": {
        "colab": {
          "base_uri": "https://localhost:8080/"
        },
        "id": "df82408e",
        "outputId": "098d4498-46bb-4da7-b336-5b97449580c4"
      },
      "outputs": [
        {
          "output_type": "stream",
          "name": "stdout",
          "text": [
            "Accuracy Score for model1 =  0.9218620116375728\n",
            "Accuracy Score for model2 =  0.9019118869492935\n",
            "Accuracy Score for average ensemble =  0.9609310058187863\n",
            "Accuracy Score for weighted average ensemble =  0.940149625935162\n"
          ]
        }
      ],
      "source": [
        "weights = [0.6, 0.4]\n",
        "\n",
        "#Use tensordot to sum the products of all elements over specified axes.\n",
        "weighted_preds = np.tensordot(preds, weights, axes=((0),(0)))\n",
        "weighted_ensemble_prediction = np.argmax(weighted_preds, axis=1)\n",
        "\n",
        "weighted_accuracy = accuracy_score(testGen.classes, weighted_ensemble_prediction)\n",
        "\n",
        "print('Accuracy Score for model1 = ', accuracy1)\n",
        "print('Accuracy Score for model2 = ', accuracy2)\n",
        "print('Accuracy Score for average ensemble = ', ensemble_accuracy)\n",
        "print('Accuracy Score for weighted average ensemble = ', weighted_accuracy)"
      ]
    },
    {
      "cell_type": "code",
      "execution_count": 43,
      "id": "22f8dbee",
      "metadata": {
        "id": "22f8dbee"
      },
      "outputs": [],
      "source": [
        "#Grid search for the best combination of w1, w2, w3 that gives maximum acuracy\n",
        "models = [model1, model2]\n",
        "preds1 = [model.predict(testGen) for model in models]\n",
        "preds1=np.array(preds1)\n"
      ]
    },
    {
      "cell_type": "code",
      "source": [
        "import pandas as pd\n",
        "df = pd.DataFrame([])\n",
        "\n",
        "for w1 in range(0, 9):\n",
        "    for w2 in range(0,9):\n",
        "            wts = [w1/10.,w2/10.]\n",
        "            wted_preds1 = np.tensordot(preds1, wts, axes=((0),(0)))\n",
        "            wted_ensemble_pred = np.argmax(wted_preds1, axis=1)\n",
        "            weighted_accuracy = accuracy_score(testGen.classes, wted_ensemble_pred)\n",
        "            df = df.append(pd.DataFrame({'wt1':wts[0],'wt2':wts[1], 'acc':weighted_accuracy*100}, index=[0]), ignore_index=True)\n"
      ],
      "metadata": {
        "id": "YZ3MSizxgyb2"
      },
      "id": "YZ3MSizxgyb2",
      "execution_count": null,
      "outputs": []
    },
    {
      "cell_type": "code",
      "source": [
        "max_acc_row = df.iloc[df['acc'].idxmax()]\n",
        "print(max_acc_row)\n",
        "\n",
        "print(\"Max accuracy of \", max_acc_row[2], \" obained with w1=\", max_acc_row[0],\n",
        "      \" w2=\", max_acc_row[1])         "
      ],
      "metadata": {
        "colab": {
          "base_uri": "https://localhost:8080/"
        },
        "id": "R8QxBcl2dHoO",
        "outputId": "ea2b2474-0e23-4e58-8a08-b183be61143c"
      },
      "id": "R8QxBcl2dHoO",
      "execution_count": 44,
      "outputs": [
        {
          "output_type": "stream",
          "name": "stdout",
          "text": [
            "wt1     0.600000\n",
            "wt2     0.700000\n",
            "acc    96.591854\n",
            "Name: 61, dtype: float64\n",
            "Max accuracy of  96.59185369908562  obained with w1= 0.6  w2= 0.7\n"
          ]
        }
      ]
    },
    {
      "cell_type": "code",
      "source": [
        "### Explore metrics for the ideal weighted ensemble model. \n",
        "\n",
        "models = [model1, model2]\n",
        "preds = [model.predict(testGen) for model in models]\n",
        "preds=np.array(preds)"
      ],
      "metadata": {
        "id": "o7CPT3wTmx2v"
      },
      "id": "o7CPT3wTmx2v",
      "execution_count": null,
      "outputs": []
    }
  ],
  "metadata": {
    "kernelspec": {
      "display_name": "Python 3",
      "language": "python",
      "name": "python3"
    },
    "language_info": {
      "codemirror_mode": {
        "name": "ipython",
        "version": 3
      },
      "file_extension": ".py",
      "mimetype": "text/x-python",
      "name": "python",
      "nbconvert_exporter": "python",
      "pygments_lexer": "ipython3",
      "version": "3.8.8"
    },
    "colab": {
      "name": "Ensemble.ipynb",
      "provenance": [],
      "collapsed_sections": []
    },
    "accelerator": "GPU"
  },
  "nbformat": 4,
  "nbformat_minor": 5
}